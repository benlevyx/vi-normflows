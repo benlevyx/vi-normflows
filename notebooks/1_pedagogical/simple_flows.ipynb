{
 "cells": [
  {
   "cell_type": "code",
   "execution_count": 1,
   "metadata": {},
   "outputs": [],
   "source": [
    "import numpy as np\n",
    "import matplotlib.pyplot as plt\n",
    "import scipy.stats as sp\n",
    "import plotly.graph_objects as go\n",
    "\n",
    "from normflows import flows\n",
    "\n",
    "%matplotlib inline\n",
    "\n",
    "%load_ext autoreload\n",
    "%autoreload 2"
   ]
  },
  {
   "cell_type": "markdown",
   "metadata": {},
   "source": [
    "### Beginning with a simple mean field gaussian"
   ]
  },
  {
   "cell_type": "code",
   "execution_count": 2,
   "metadata": {},
   "outputs": [],
   "source": [
    "ndim = 1\n",
    "mu0 = np.zeros(ndim)\n",
    "Sigma0 = np.eye(ndim)\n",
    "N = 1000\n",
    "nbins = 300\n",
    "\n",
    "samples = np.random.multivariate_normal(mu0, Sigma0, size=N)"
   ]
  },
  {
   "cell_type": "code",
   "execution_count": 8,
   "metadata": {},
   "outputs": [],
   "source": [
    "def density_plot_1d(Z, ax=None, title=None):\n",
    "    if ax is None:\n",
    "        plotter = plt\n",
    "    else:\n",
    "        plotter = ax\n",
    "        \n",
    "    dim = Z.shape[1]\n",
    "    if dim == 1:\n",
    "        plotter.hist(Z, bins=25, edgecolor='k')\n",
    "    elif dim == 2:\n",
    "        plotter.scatter(Z[:, 0], Z[:, 1], alpha=0.5)\n",
    "        \n",
    "    if title is not None:\n",
    "        plotter.title(title)\n",
    "    plotter.xlabel('$x$')\n",
    "    plotter.ylabel('$y$')\n",
    "    return ax"
   ]
  },
  {
   "cell_type": "code",
   "execution_count": 58,
   "metadata": {},
   "outputs": [],
   "source": [
    "def density_plot_2d(samples, ax=None, title=None):\n",
    "    if ax is None:\n",
    "        plotter = plt\n",
    "    else:\n",
    "        plotter = ax\n",
    "        \n",
    "    nbins = 300\n",
    "    x, y = samples[:, 0], samples[:, 1]\n",
    "    density = sp.kde.gaussian_kde([x, y])\n",
    "    xi, yi = np.mgrid[x.min():x.max():nbins*1j, y.min():y.max():nbins*1j]\n",
    "    zi = density(np.vstack([xi.flatten(), yi.flatten()]))\n",
    "    plotter.pcolormesh(xi, yi, zi.reshape(xi.shape))\n",
    "    plotter.pcolormesh(xi, yi, zi.reshape(xi.shape), cmap=plt.cm.Reds_r)\n",
    "    if title is not None:\n",
    "        plotter.title(title)\n",
    "    plotter.xlabel('$x$')\n",
    "    plotter.ylabel('$y$')"
   ]
  },
  {
   "cell_type": "code",
   "execution_count": 9,
   "metadata": {},
   "outputs": [
    {
     "data": {
      "image/png": "[encoded data removed]",
      "text/plain": [
       "<Figure size 432x432 with 1 Axes>"
      ]
     },
     "metadata": {
      "needs_background": "light"
     },
     "output_type": "display_data"
    }
   ],
   "source": [
    "plt.figure(figsize=(6, 6))\n",
    "density_plot_1d(samples)\n",
    "plt.show()"
   ]
  },
  {
   "cell_type": "code",
   "execution_count": 38,
   "metadata": {},
   "outputs": [],
   "source": [
    "w = np.array([-2])\n",
    "u = np.array([4])\n",
    "b = 10\n",
    "\n",
    "w2 = np.array([6])\n",
    "u2 = np.array([6])\n",
    "b2 = -3\n",
    "\n",
    "\n",
    "pf1 = lambda z: flows.planar_flow(z, w, u, b)\n",
    "pf2 = lambda z: flows.planar_flow(z, w2, u2, b2)"
   ]
  },
  {
   "cell_type": "code",
   "execution_count": 39,
   "metadata": {},
   "outputs": [
    {
     "data": {
      "image/png": "[encoded data removed]",
      "text/plain": [
       "<Figure size 432x432 with 1 Axes>"
      ]
     },
     "metadata": {
      "needs_background": "light"
     },
     "output_type": "display_data"
    }
   ],
   "source": [
    "plt.figure(figsize=(6, 6))\n",
    "density_plot_1d(pf2(pf1(samples)), title='2 normalizing flows')\n",
    "plt.plot(w)\n",
    "plt.plot(w2)\n",
    "plt.show()"
   ]
  },
  {
   "cell_type": "code",
   "execution_count": null,
   "metadata": {},
   "outputs": [],
   "source": [
    "fig = go.Figure()\n",
    "\n"
   ]
  }
 ],
 "metadata": {
  "kernelspec": {
   "display_name": "Python 3",
   "language": "python",
   "name": "python3"
  },
  "language_info": {
   "codemirror_mode": {
    "name": "ipython",
    "version": 3
   },
   "file_extension": ".py",
   "mimetype": "text/x-python",
   "name": "python",
   "nbconvert_exporter": "python",
   "pygments_lexer": "ipython3",
   "version": "3.7.5"
  }
 },
 "nbformat": 4,
 "nbformat_minor": 2
}
